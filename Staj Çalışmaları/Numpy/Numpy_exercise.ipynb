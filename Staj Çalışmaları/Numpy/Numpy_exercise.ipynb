{
  "nbformat": 4,
  "nbformat_minor": 0,
  "metadata": {
    "colab": {
      "provenance": []
    },
    "kernelspec": {
      "name": "python3",
      "display_name": "Python 3"
    },
    "language_info": {
      "name": "python"
    }
  },
  "cells": [
    {
      "cell_type": "markdown",
      "source": [
        "# **Ahmet Selçuk KÜREN Staj Çalışmaları**\n",
        "#**Numpy nedir ?**\n",
        "NumPy, dizilerle çalışmak için kullanılan bir Python kütüphanesidir. Ayrıca doğrusal cebir, fourier dönüşümü ve matrisler alanında çalışmak için de gerekli işlevlere sahiptir.\n",
        "# 1.   Numpy Özellikleri\n",
        " ## Yeniden Şekillendirme (Reshaping)\n",
        "## Index Seçimi (Index Selection)\n",
        " ## Fancy Index\n",
        "\n"
      ],
      "metadata": {
        "id": "VH0yinkXJTNi"
      }
    },
    {
      "cell_type": "code",
      "execution_count": 1,
      "metadata": {
        "id": "YTJC4nNdJSaj"
      },
      "outputs": [],
      "source": [
        "import numpy as np"
      ]
    },
    {
      "cell_type": "markdown",
      "source": [
        "**Numpy Array'i oluşturmak**"
      ],
      "metadata": {
        "id": "lhCdFF32LFzy"
      }
    },
    {
      "cell_type": "code",
      "source": [
        "np.array([1, 2, 3, 4, 5])\n",
        "type(np.array([1, 2, 3, 4, 5]))\n",
        "np.zeros(10, dtype=int)\n",
        "np.random.randint(0, 10, size=10)\n",
        "np.random.normal(10, 4, (3, 4))"
      ],
      "metadata": {
        "colab": {
          "base_uri": "https://localhost:8080/"
        },
        "id": "MtfKOLJWLLTd",
        "outputId": "58b28326-cbfa-4b76-e74d-41d7d4973607"
      },
      "execution_count": 2,
      "outputs": [
        {
          "output_type": "execute_result",
          "data": {
            "text/plain": [
              "array([[ 9.43815846,  7.24848863, 15.15304038,  6.86681271],\n",
              "       [11.55089265, 13.03597825,  7.28465472,  6.33441394],\n",
              "       [ 8.52414064, 14.57279117,  6.70717507,  6.87843003]])"
            ]
          },
          "metadata": {},
          "execution_count": 2
        }
      ]
    },
    {
      "cell_type": "markdown",
      "source": [
        "**NumPy Array Özellikleri (Attibutes of Numpy Arrays)**"
      ],
      "metadata": {
        "id": "cEjVrcH6Lb-3"
      }
    },
    {
      "cell_type": "code",
      "source": [
        "a = np.random.randint(10, size=5)\n",
        "a.ndim #ndim: boyut sayısı\n",
        "\n",
        "\n"
      ],
      "metadata": {
        "colab": {
          "base_uri": "https://localhost:8080/"
        },
        "id": "d3qgmgKnLjC8",
        "outputId": "2ecdec81-a685-4fcb-9ca6-6884ccbe4d7a"
      },
      "execution_count": 8,
      "outputs": [
        {
          "output_type": "execute_result",
          "data": {
            "text/plain": [
              "1"
            ]
          },
          "metadata": {},
          "execution_count": 8
        }
      ]
    },
    {
      "cell_type": "code",
      "source": [
        "a.shape # shape: boyut bilgisi"
      ],
      "metadata": {
        "colab": {
          "base_uri": "https://localhost:8080/"
        },
        "id": "BXLVMfxfL5tM",
        "outputId": "a2307b62-9762-4c0a-f0f8-17cdf6e7aef1"
      },
      "execution_count": 5,
      "outputs": [
        {
          "output_type": "execute_result",
          "data": {
            "text/plain": [
              "(5,)"
            ]
          },
          "metadata": {},
          "execution_count": 5
        }
      ]
    },
    {
      "cell_type": "code",
      "source": [
        "a.size # size: toplam eleman sayısı"
      ],
      "metadata": {
        "colab": {
          "base_uri": "https://localhost:8080/"
        },
        "id": "C_btLNOJL69h",
        "outputId": "219e3cc5-3262-4d1f-9c54-229a6f474dd1"
      },
      "execution_count": 6,
      "outputs": [
        {
          "output_type": "execute_result",
          "data": {
            "text/plain": [
              "5"
            ]
          },
          "metadata": {},
          "execution_count": 6
        }
      ]
    },
    {
      "cell_type": "code",
      "source": [
        "a.dtype # dtype: array veri tipi"
      ],
      "metadata": {
        "colab": {
          "base_uri": "https://localhost:8080/"
        },
        "id": "TUtQD1eLL9no",
        "outputId": "89b2271c-2513-407a-a837-09d4936fe5fa"
      },
      "execution_count": 7,
      "outputs": [
        {
          "output_type": "execute_result",
          "data": {
            "text/plain": [
              "dtype('int64')"
            ]
          },
          "metadata": {},
          "execution_count": 7
        }
      ]
    },
    {
      "cell_type": "markdown",
      "source": [
        "**Yeniden Şekillendirme (Reshaping)**"
      ],
      "metadata": {
        "id": "44ACKnF6MNVB"
      }
    },
    {
      "cell_type": "code",
      "source": [
        "np.random.randint(1, 10, size=9)"
      ],
      "metadata": {
        "colab": {
          "base_uri": "https://localhost:8080/"
        },
        "id": "MnYvgzudNDkp",
        "outputId": "6d98f6ee-981b-4fd7-ecb0-5154d52a48cd"
      },
      "execution_count": 10,
      "outputs": [
        {
          "output_type": "execute_result",
          "data": {
            "text/plain": [
              "array([7, 4, 7, 9, 7, 3, 4, 9, 5])"
            ]
          },
          "metadata": {},
          "execution_count": 10
        }
      ]
    },
    {
      "cell_type": "code",
      "source": [
        "ar = np.random.randint(1, 10, size=9)\n",
        "ar.reshape(3, 3)"
      ],
      "metadata": {
        "colab": {
          "base_uri": "https://localhost:8080/"
        },
        "id": "bdcqyhOzMOV5",
        "outputId": "d5089299-de53-4e15-f248-890f73d010ac"
      },
      "execution_count": 11,
      "outputs": [
        {
          "output_type": "execute_result",
          "data": {
            "text/plain": [
              "array([[2, 8, 9],\n",
              "       [6, 7, 1],\n",
              "       [1, 2, 9]])"
            ]
          },
          "metadata": {},
          "execution_count": 11
        }
      ]
    },
    {
      "cell_type": "markdown",
      "source": [
        "reshape() fonkiyonu ile oluşturulan array'lerin matris boyutunda değişiklik yapabiliriz."
      ],
      "metadata": {
        "id": "fXOueGN0MTx-"
      }
    },
    {
      "cell_type": "markdown",
      "source": [
        "**Index Seçimi (Index Selection)**"
      ],
      "metadata": {
        "id": "KhJScNTGNIyD"
      }
    },
    {
      "cell_type": "code",
      "source": [
        "a = np.random.randint(10, size=10)\n",
        "a[0]# a nın sıfırıncı elemanını seçmemizi sağlar"
      ],
      "metadata": {
        "colab": {
          "base_uri": "https://localhost:8080/"
        },
        "id": "GffGpO3bNO20",
        "outputId": "53fdd1ed-2f40-4f00-f531-61e407bbfeb4"
      },
      "execution_count": 14,
      "outputs": [
        {
          "output_type": "execute_result",
          "data": {
            "text/plain": [
              "4"
            ]
          },
          "metadata": {},
          "execution_count": 14
        }
      ]
    },
    {
      "cell_type": "code",
      "source": [
        "a[0:5]# 0. elemandan 5. elemana kadar gösterir(5. eleman hariç)"
      ],
      "metadata": {
        "colab": {
          "base_uri": "https://localhost:8080/"
        },
        "id": "osrZVMKcN8Ju",
        "outputId": "079a455b-8d71-47c7-d61d-3d87cb9d22d1"
      },
      "execution_count": 16,
      "outputs": [
        {
          "output_type": "execute_result",
          "data": {
            "text/plain": [
              "array([4, 4, 2, 2, 3])"
            ]
          },
          "metadata": {},
          "execution_count": 16
        }
      ]
    },
    {
      "cell_type": "markdown",
      "source": [
        "2 boyutlu matrislerde seçim işlemi"
      ],
      "metadata": {
        "id": "nhSpR76jONg_"
      }
    },
    {
      "cell_type": "code",
      "source": [
        "m = np.random.randint(10, size=(3, 5))\n",
        "m"
      ],
      "metadata": {
        "colab": {
          "base_uri": "https://localhost:8080/"
        },
        "id": "f29DVCgJOM7T",
        "outputId": "eb2f6ee9-0454-48e2-e3ae-9d5adc6c9d27"
      },
      "execution_count": 18,
      "outputs": [
        {
          "output_type": "execute_result",
          "data": {
            "text/plain": [
              "array([[0, 1, 1, 3, 2],\n",
              "       [4, 5, 5, 7, 2],\n",
              "       [8, 9, 0, 6, 8]])"
            ]
          },
          "metadata": {},
          "execution_count": 18
        }
      ]
    },
    {
      "cell_type": "code",
      "source": [
        "m[1, 1] # 1. satır 1. sütündaki elemanı seçmemizi sağlar."
      ],
      "metadata": {
        "colab": {
          "base_uri": "https://localhost:8080/"
        },
        "id": "aoGjNeAiOgDZ",
        "outputId": "b0c7f2ea-fa55-4b05-9150-a959f6fdcb4a"
      },
      "execution_count": 19,
      "outputs": [
        {
          "output_type": "execute_result",
          "data": {
            "text/plain": [
              "5"
            ]
          },
          "metadata": {},
          "execution_count": 19
        }
      ]
    },
    {
      "cell_type": "code",
      "source": [
        "m[2, 3] # 2. satır 3. sütundaki elemanı seçmemizi sağlar."
      ],
      "metadata": {
        "colab": {
          "base_uri": "https://localhost:8080/"
        },
        "id": "v_KjW6iNOqS7",
        "outputId": "ad34e342-0900-4297-effc-dfd7778d9590"
      },
      "execution_count": 20,
      "outputs": [
        {
          "output_type": "execute_result",
          "data": {
            "text/plain": [
              "6"
            ]
          },
          "metadata": {},
          "execution_count": 20
        }
      ]
    },
    {
      "cell_type": "markdown",
      "source": [
        "**Fancy Index**"
      ],
      "metadata": {
        "id": "Rul0WpKSO8s2"
      }
    },
    {
      "cell_type": "code",
      "source": [
        "v = np.arange(0, 30, 3)\n",
        "v"
      ],
      "metadata": {
        "colab": {
          "base_uri": "https://localhost:8080/"
        },
        "id": "Z7Y-p8UWPDaV",
        "outputId": "b6657288-d61a-41b1-da83-004efbdd1a00"
      },
      "execution_count": 22,
      "outputs": [
        {
          "output_type": "execute_result",
          "data": {
            "text/plain": [
              "array([ 0,  3,  6,  9, 12, 15, 18, 21, 24, 27])"
            ]
          },
          "metadata": {},
          "execution_count": 22
        }
      ]
    },
    {
      "cell_type": "markdown",
      "source": [
        "arange() fonksiyonu başlangıç , bitiş ve artış miktarı girilen değerleri array haline getirir."
      ],
      "metadata": {
        "id": "fpAbTwjBPOvW"
      }
    },
    {
      "cell_type": "code",
      "source": [
        "catch = [1, 2, 3] #seçili indexteki elemanları getirir.\n",
        "v[catch]"
      ],
      "metadata": {
        "colab": {
          "base_uri": "https://localhost:8080/"
        },
        "id": "IRPt6LykPsSm",
        "outputId": "d6581b77-dd40-4a22-87c9-787a5acd169a"
      },
      "execution_count": 25,
      "outputs": [
        {
          "output_type": "execute_result",
          "data": {
            "text/plain": [
              "array([3, 6, 9])"
            ]
          },
          "metadata": {},
          "execution_count": 25
        }
      ]
    },
    {
      "cell_type": "markdown",
      "source": [
        "**Matematiksel İşlemler (Mathematical Operations)**"
      ],
      "metadata": {
        "id": "TwWZ5Og9QpVK"
      }
    },
    {
      "cell_type": "code",
      "source": [
        "z = np.array([1, 2, 3, 4, 5])\n",
        "z"
      ],
      "metadata": {
        "colab": {
          "base_uri": "https://localhost:8080/"
        },
        "id": "dRvE9WRiQslT",
        "outputId": "fc7956d3-09c8-45d9-e1d4-472c281d6716"
      },
      "execution_count": 27,
      "outputs": [
        {
          "output_type": "execute_result",
          "data": {
            "text/plain": [
              "array([1, 2, 3, 4, 5])"
            ]
          },
          "metadata": {},
          "execution_count": 27
        }
      ]
    },
    {
      "cell_type": "code",
      "source": [
        "z / 5"
      ],
      "metadata": {
        "colab": {
          "base_uri": "https://localhost:8080/"
        },
        "id": "Ychvp81EQ-uZ",
        "outputId": "1e336247-9d78-4dbf-ab5b-3644c0120adb"
      },
      "execution_count": 29,
      "outputs": [
        {
          "output_type": "execute_result",
          "data": {
            "text/plain": [
              "array([0.2, 0.4, 0.6, 0.8, 1. ])"
            ]
          },
          "metadata": {},
          "execution_count": 29
        }
      ]
    },
    {
      "cell_type": "code",
      "source": [
        "z * 5 / 10"
      ],
      "metadata": {
        "colab": {
          "base_uri": "https://localhost:8080/"
        },
        "id": "Nu0D9SQVRCff",
        "outputId": "d5e2f2a9-fb5e-4e06-f800-c1f7678517de"
      },
      "execution_count": 30,
      "outputs": [
        {
          "output_type": "execute_result",
          "data": {
            "text/plain": [
              "array([0.5, 1. , 1.5, 2. , 2.5])"
            ]
          },
          "metadata": {},
          "execution_count": 30
        }
      ]
    },
    {
      "cell_type": "code",
      "source": [
        "z ** 2"
      ],
      "metadata": {
        "colab": {
          "base_uri": "https://localhost:8080/"
        },
        "id": "ty0K7z3pRJ2j",
        "outputId": "048e5de5-cc5a-4b56-c6a0-c527c25e2718"
      },
      "execution_count": 31,
      "outputs": [
        {
          "output_type": "execute_result",
          "data": {
            "text/plain": [
              "array([ 1,  4,  9, 16, 25])"
            ]
          },
          "metadata": {},
          "execution_count": 31
        }
      ]
    }
  ]
}